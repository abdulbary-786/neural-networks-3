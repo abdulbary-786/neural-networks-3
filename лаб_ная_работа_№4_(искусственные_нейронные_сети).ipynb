{
  "nbformat": 4,
  "nbformat_minor": 0,
  "metadata": {
    "colab": {
      "provenance": []
    },
    "kernelspec": {
      "name": "python3",
      "display_name": "Python 3"
    },
    "language_info": {
      "name": "python"
    }
  },
  "cells": [
    {
      "cell_type": "markdown",
      "source": [
        "# Построение сверточной нейронной сети для классификации изображений из датасета CIFAR-100, с использованием BatchNormalization() и Dropout()"
      ],
      "metadata": {
        "id": "5FTzd6Tr1HE6"
      }
    },
    {
      "cell_type": "markdown",
      "source": [
        "[Код с пары](https://colab.research.google.com/drive/1cvPrPI09ySQy-D92gKTzmanVi2cj5Gw_?usp=sharing)"
      ],
      "metadata": {
        "id": "gdX9a26i5B-4"
      }
    },
    {
      "cell_type": "markdown",
      "source": [
        "### Задание 1. Загрузите исходный датасет. Разделите его на обучающую и тестовую выборки. Визуализируйте несколько изображений из датасета. Произведите нормализацию данных. \n",
        "\n",
        "\n",
        "*P.S.: Не забудьте обратить внимание на размерность (shape) исходных данных и при необходимости измените её (см. примеры из предыдущих занятий)*\n",
        "\n",
        "[Информация о датасете в Kaggle](https://www.kaggle.com/datasets/fedesoriano/cifar100?resource=download&select=meta)\n",
        "\n",
        "[Техническая документация по использованию датасета в Keras](https://keras.io/api/datasets/cifar100/)\n",
        "\n",
        "\n",
        "\n"
      ],
      "metadata": {
        "id": "PegOFe6t0NPk"
      }
    },
    {
      "cell_type": "code",
      "source": [
        "from google.colab import drive\n",
        "drive.mount('/content/drive')"
      ],
      "metadata": {
        "colab": {
          "base_uri": "https://localhost:8080/"
        },
        "id": "R_VMp6C2-GlE",
        "outputId": "781d1f1a-3eaf-4c6c-d580-27eef4e20dbd"
      },
      "execution_count": null,
      "outputs": [
        {
          "output_type": "stream",
          "name": "stdout",
          "text": [
            "Mounted at /content/drive\n"
          ]
        }
      ]
    },
    {
      "cell_type": "code",
      "source": [
        "from tensorflow.keras.datasets import cifar10\n",
        "from tensorflow.keras.models import Sequential\n",
        "from tensorflow.keras.layers import Dense, Flatten, Conv2D, MaxPooling2D, BatchNormalization, Activation, Dropout\n",
        "from tensorflow.keras.losses import sparse_categorical_crossentropy\n",
        "from tensorflow.keras.optimizers import Adam\n",
        "import matplotlib.pyplot as plt"
      ],
      "metadata": {
        "id": "7hyoNcGqyeid"
      },
      "execution_count": null,
      "outputs": []
    },
    {
      "cell_type": "markdown",
      "source": [
        "Load CIFAR-10 data"
      ],
      "metadata": {
        "id": "aaszrz7OoqPM"
      }
    },
    {
      "cell_type": "code",
      "execution_count": null,
      "metadata": {
        "id": "SSerkZhqz-Zu"
      },
      "outputs": [],
      "source": [
        "(x_train, y_train), (x_test, y_test) = cifar10.load_data()"
      ]
    },
    {
      "cell_type": "code",
      "source": [
        "import matplotlib.pyplot as plt\n",
        "\n",
        "fig, ax = plt.subplots(1, 3, figsize=(10, 5))\n",
        "\n",
        "for i in range(3):\n",
        "    ax[i].imshow(x_train[i])\n",
        "    ax[i].axis('on')"
      ],
      "metadata": {
        "colab": {
          "base_uri": "https://localhost:8080/",
          "height": 290
        },
        "id": "RYV2ma1Do7wF",
        "outputId": "77d8adaf-da3f-4bff-902c-34316e209e42"
      },
      "execution_count": null,
      "outputs": [
        {
          "output_type": "display_data",
          "data": {
            "text/plain": [
              "<Figure size 1000x500 with 3 Axes>"
            ],
            "image/png": "[encoded data removed]"
          },
          "metadata": {}
        }
      ]
    },
    {
      "cell_type": "markdown",
      "source": [
        "Parse numbers as floats"
      ],
      "metadata": {
        "id": "wmpnMPblzKvP"
      }
    },
    {
      "cell_type": "code",
      "source": [
        "x_train = x_train.astype('float32')\n",
        "x_test = x_test.astype('float32')"
      ],
      "metadata": {
        "id": "TTSaVGy0zCE-"
      },
      "execution_count": null,
      "outputs": []
    },
    {
      "cell_type": "markdown",
      "source": [
        "Normalize data"
      ],
      "metadata": {
        "id": "Q0rYNLMFzeCa"
      }
    },
    {
      "cell_type": "code",
      "source": [
        "x_train = x_train / 255\n",
        "x_test = x_test / 255"
      ],
      "metadata": {
        "id": "g4HocWRLpbw9"
      },
      "execution_count": null,
      "outputs": []
    },
    {
      "cell_type": "markdown",
      "source": [
        "### Задание 2. Создайте модель сверточной нейронной сети для решения поставленной задачи без использования BatchNormalization() и Dropout(). \n",
        "\n",
        "Имя данной модели: model_1"
      ],
      "metadata": {
        "id": "ne7OBLid0NY-"
      }
    },
    {
      "cell_type": "code",
      "source": [
        "# Model configuration\n",
        "batch_size = 128\n",
        "img_width, img_height, img_num_channels = 32, 32, 3\n",
        "loss_function = sparse_categorical_crossentropy\n",
        "no_classes = 10\n",
        "no_epochs = 3\n",
        "optimizer = Adam()\n",
        "validation_split = 0.2\n",
        "verbosity = 1\n",
        "\n",
        "input_shape = (img_width, img_height, img_num_channels)"
      ],
      "metadata": {
        "id": "udqAsUY5yorA"
      },
      "execution_count": null,
      "outputs": []
    },
    {
      "cell_type": "code",
      "source": [
        "model_1 = Sequential()\n",
        "model_1.add(Conv2D(32, kernel_size=(3, 3), activation='relu', input_shape=input_shape))\n",
        "model_1.add(MaxPooling2D(pool_size=(2, 2)))\n",
        "model_1.add(Conv2D(64, kernel_size=(3, 3), activation='relu'))\n",
        "model_1.add(MaxPooling2D(pool_size=(2, 2)))\n",
        "model_1.add(Conv2D(128, kernel_size=(3, 3), activation='relu'))\n",
        "model_1.add(MaxPooling2D(pool_size=(2, 2)))\n",
        "model_1.add(Flatten())\n",
        "model_1.add(Dense(256, activation='relu'))\n",
        "model_1.add(Dense(128, activation='relu'))\n",
        "model_1.add(Dense(no_classes, activation='softmax'))\n",
        "\n",
        "model_1.compile(loss=sparse_categorical_crossentropy,\n",
        "              optimizer=optimizer,\n",
        "              metrics=['accuracy'])"
      ],
      "metadata": {
        "id": "Gy0_n8G03kcU"
      },
      "execution_count": null,
      "outputs": []
    },
    {
      "cell_type": "markdown",
      "source": [
        "Обучите созданную модель"
      ],
      "metadata": {
        "id": "69zrqqaA5kOd"
      }
    },
    {
      "cell_type": "code",
      "source": [
        "history_1 = model_1.fit(x_train, y_train,\n",
        "            batch_size=batch_size,\n",
        "            epochs=no_epochs,\n",
        "            verbose=verbosity,\n",
        "            validation_split=validation_split,\n",
        "            validation_data=(x_test, y_test))"
      ],
      "metadata": {
        "colab": {
          "base_uri": "https://localhost:8080/"
        },
        "id": "WPTqAOq_rflW",
        "outputId": "490eccd9-db80-4106-a4d7-7942484aef78"
      },
      "execution_count": null,
      "outputs": [
        {
          "output_type": "stream",
          "name": "stdout",
          "text": [
            "Epoch 1/3\n",
            "391/391 [==============================] - 81s 202ms/step - loss: 2.1605 - accuracy: 0.1825 - val_loss: 1.9995 - val_accuracy: 0.2573\n",
            "Epoch 2/3\n",
            "391/391 [==============================] - 80s 205ms/step - loss: 1.9321 - accuracy: 0.2839 - val_loss: 1.9139 - val_accuracy: 0.3156\n",
            "Epoch 3/3\n",
            "391/391 [==============================] - 78s 200ms/step - loss: 1.8037 - accuracy: 0.3381 - val_loss: 1.7394 - val_accuracy: 0.3671\n"
          ]
        }
      ]
    },
    {
      "cell_type": "markdown",
      "source": [
        "### Задание 3. Создайте модель сверточной нейронной сети для решения поставленной задачи с использованием BatchNormalization(). \n",
        "\n",
        "Имя данной модели: model_2"
      ],
      "metadata": {
        "id": "07x5ciPl0Njy"
      }
    },
    {
      "cell_type": "code",
      "source": [
        "# Model configuration\n",
        "batch_size = 128\n",
        "img_width, img_height, img_num_channels = 32, 32, 3\n",
        "loss_function = sparse_categorical_crossentropy\n",
        "no_classes = 10\n",
        "no_epochs = 3\n",
        "optimizer = Adam()\n",
        "validation_split = 0.2\n",
        "verbosity = 1\n",
        "\n",
        "input_shape = (img_width, img_height, img_num_channels)"
      ],
      "metadata": {
        "id": "vy9H9gcJ3kzl"
      },
      "execution_count": null,
      "outputs": []
    },
    {
      "cell_type": "code",
      "source": [
        "model_2 = Sequential()\n",
        "model_2.add(Conv2D(32, kernel_size=(3, 3), activation='relu', input_shape=input_shape))\n",
        "model_2.add(MaxPooling2D(pool_size=(2, 2)))\n",
        "model_2.add(Conv2D(64, kernel_size=(3, 3), activation='relu'))\n",
        "model_2.add(MaxPooling2D(pool_size=(2, 2)))\n",
        "model_2.add(Conv2D(128, kernel_size=(3, 3), activation='relu'))\n",
        "model_2.add(MaxPooling2D(pool_size=(2, 2)))\n",
        "model_2.add(Flatten())\n",
        "model_2.add(Dense(128))\n",
        "model_2.add(BatchNormalization())\n",
        "model_2.add(Activation(\"relu\"))\n",
        "model_2.add(Dense(64))\n",
        "model_2.add(BatchNormalization())\n",
        "model_2.add(Activation(\"softmax\"))\n",
        "\n",
        "model_2.compile(loss=sparse_categorical_crossentropy,\n",
        "              optimizer=optimizer,\n",
        "              metrics=['accuracy'])"
      ],
      "metadata": {
        "id": "Ap7C9YuoQen4"
      },
      "execution_count": null,
      "outputs": []
    },
    {
      "cell_type": "markdown",
      "source": [
        "Обучите созданную модель"
      ],
      "metadata": {
        "id": "7vrswF436DNo"
      }
    },
    {
      "cell_type": "code",
      "source": [
        "history_2 = model_2.fit(x_train, y_train,\n",
        "                      batch_size=batch_size,\n",
        "                      epochs=no_epochs,\n",
        "                      verbose=verbosity,\n",
        "                      validation_split=validation_split,\n",
        "                      validation_data=(x_test, y_test))"
      ],
      "metadata": {
        "id": "2xOOok5l6DNo",
        "colab": {
          "base_uri": "https://localhost:8080/"
        },
        "outputId": "69b8650b-ab3d-437c-dee1-44d552d704f0"
      },
      "execution_count": null,
      "outputs": [
        {
          "output_type": "stream",
          "name": "stdout",
          "text": [
            "Epoch 1/3\n",
            "391/391 [==============================] - 81s 203ms/step - loss: 2.7013 - accuracy: 0.4248 - val_loss: 7.1567 - val_accuracy: 0.1000\n",
            "Epoch 2/3\n",
            "391/391 [==============================] - 80s 203ms/step - loss: 1.7927 - accuracy: 0.5516 - val_loss: 49.9824 - val_accuracy: 0.1000\n",
            "Epoch 3/3\n",
            "391/391 [==============================] - 78s 201ms/step - loss: 1.4123 - accuracy: 0.6033 - val_loss: 33.1836 - val_accuracy: 1.0000e-04\n"
          ]
        }
      ]
    },
    {
      "cell_type": "markdown",
      "source": [
        "### Задание 4. Создайте модель сверточной нейронной сети для решения поставленной задачи с использованием Dropout(). \n",
        "\n",
        "Имя данной модели: model_3"
      ],
      "metadata": {
        "id": "386TvloP3lJF"
      }
    },
    {
      "cell_type": "code",
      "source": [
        "# Model configuration\n",
        "batch_size = 128\n",
        "img_width, img_height, img_num_channels = 32, 32, 3\n",
        "loss_function = sparse_categorical_crossentropy\n",
        "no_classes = 10\n",
        "no_epochs = 3\n",
        "optimizer = Adam()\n",
        "validation_split = 0.2\n",
        "verbosity = 1\n",
        "\n",
        "input_shape = (img_width, img_height, img_num_channels)"
      ],
      "metadata": {
        "id": "e-tkmz9d3lXx"
      },
      "execution_count": null,
      "outputs": []
    },
    {
      "cell_type": "code",
      "source": [
        "model_3 = Sequential()\n",
        "model_3.add(Conv2D(32, kernel_size=(3, 3), activation='relu', input_shape=input_shape))\n",
        "model_3.add(MaxPooling2D(pool_size=(2, 2)))\n",
        "model_3.add(Conv2D(64, kernel_size=(3, 3), activation='relu'))\n",
        "model_3.add(MaxPooling2D(pool_size=(2, 2)))\n",
        "model_3.add(Conv2D(128, kernel_size=(3, 3), activation='relu'))\n",
        "model_3.add(MaxPooling2D(pool_size=(2, 2)))\n",
        "model_3.add(Flatten())\n",
        "model_3.add(Dense(128))\n",
        "model_3.add(Dropout(0.5))\n",
        "model_3.add(Activation(\"relu\"))\n",
        "model_3.add(Dense(64))\n",
        "model_3.add(Dropout(0.5))\n",
        "model_3.add(Activation(\"softmax\"))\n",
        "\n",
        "model_3.compile(loss=sparse_categorical_crossentropy,\n",
        "              optimizer=optimizer,\n",
        "              metrics=['accuracy'])"
      ],
      "metadata": {
        "id": "Lxd70_k1Y3Et"
      },
      "execution_count": null,
      "outputs": []
    },
    {
      "cell_type": "markdown",
      "source": [
        "Обучите созданную модель"
      ],
      "metadata": {
        "id": "hehT-6re6RXv"
      }
    },
    {
      "cell_type": "code",
      "source": [
        "history_3 = model_2.fit(x_train, y_train,\n",
        "                      batch_size=batch_size,\n",
        "                      epochs=no_epochs,\n",
        "                      verbose=verbosity,\n",
        "                      validation_split=validation_split,\n",
        "                      validation_data=(x_test, y_test))"
      ],
      "metadata": {
        "id": "c6HNFpOE6RXw",
        "colab": {
          "base_uri": "https://localhost:8080/"
        },
        "outputId": "effb5fd8-92cd-4380-f363-6a2437306701"
      },
      "execution_count": null,
      "outputs": [
        {
          "output_type": "stream",
          "name": "stdout",
          "text": [
            "Epoch 1/3\n",
            "391/391 [==============================] - 83s 212ms/step - loss: 1.2549 - accuracy: 0.6208 - val_loss: 104.2060 - val_accuracy: 0.1000\n",
            "Epoch 2/3\n",
            "391/391 [==============================] - 84s 215ms/step - loss: 1.1189 - accuracy: 0.6483 - val_loss: 79.0121 - val_accuracy: 0.0000e+00\n",
            "Epoch 3/3\n",
            "391/391 [==============================] - 84s 214ms/step - loss: 1.0276 - accuracy: 0.6705 - val_loss: 43.3054 - val_accuracy: 0.1000\n"
          ]
        }
      ]
    },
    {
      "cell_type": "markdown",
      "source": [
        "### Задание 5. Создайте модель сверточной нейронной сети для решения поставленной задачи с использованием Dropout() и BatchNormalization().\n",
        "\n",
        "См. рекомендации [здесь](https://stackoverflow.com/questions/39691902/ordering-of-batch-normalization-and-dropout) и [здесь](https://www.kaggle.com/code/ryanholbrook/dropout-and-batch-normalization/)\n",
        "\n",
        "Имя данной модели: model_4"
      ],
      "metadata": {
        "id": "qz2qhKtu7Jgf"
      }
    },
    {
      "cell_type": "code",
      "source": [
        "# Model configuration\n",
        "batch_size = 128\n",
        "img_width, img_height, img_num_channels = 32, 32, 3\n",
        "loss_function = sparse_categorical_crossentropy\n",
        "no_classes = 10\n",
        "no_epochs = 3\n",
        "optimizer = Adam()\n",
        "validation_split = 0.2\n",
        "verbosity = 1\n",
        "\n",
        "input_shape = (img_width, img_height, img_num_channels)"
      ],
      "metadata": {
        "id": "4R3k6Ml7qtkb"
      },
      "execution_count": null,
      "outputs": []
    },
    {
      "cell_type": "code",
      "source": [
        "model_4 = Sequential()\n",
        "model_4.add(Conv2D(32, kernel_size=(3, 3), activation='relu', input_shape=input_shape))\n",
        "model_4.add(MaxPooling2D(pool_size=(2, 2)))\n",
        "model_4.add(Conv2D(64, kernel_size=(3, 3), activation='relu'))\n",
        "model_4.add(MaxPooling2D(pool_size=(2, 2)))\n",
        "model_4.add(Conv2D(128, kernel_size=(3, 3), activation='relu'))\n",
        "model_4.add(MaxPooling2D(pool_size=(2, 2)))\n",
        "model_4.add(Flatten())\n",
        "model_4.add(BatchNormalization())\n",
        "model_4.add(Dense(128))\n",
        "model_4.add(Dropout(0.5))\n",
        "model_4.add(Activation(\"relu\"))\n",
        "model_4.add(BatchNormalization())\n",
        "model_4.add(Dense(64))\n",
        "model_4.add(Dropout(0.5))\n",
        "model_4.add(Activation(\"softmax\"))\n",
        "\n",
        "model_4.compile(loss=sparse_categorical_crossentropy,\n",
        "              optimizer=optimizer,\n",
        "              metrics=['accuracy'])"
      ],
      "metadata": {
        "id": "dVuNM8lI7Jgo"
      },
      "execution_count": null,
      "outputs": []
    },
    {
      "cell_type": "markdown",
      "source": [
        "Обучите созданную модель"
      ],
      "metadata": {
        "id": "nES6ENxq7Jgp"
      }
    },
    {
      "cell_type": "code",
      "source": [
        "history_4 = model_2.fit(x_train, y_train,\n",
        "                      batch_size=batch_size,\n",
        "                      epochs=no_epochs,\n",
        "                      verbose=verbosity,\n",
        "                      validation_split=validation_split,\n",
        "                      validation_data=(x_test, y_test))"
      ],
      "metadata": {
        "id": "SWIPC22-7Jgp",
        "colab": {
          "base_uri": "https://localhost:8080/"
        },
        "outputId": "788c919a-9080-445e-d37f-d9f0ee165cb1"
      },
      "execution_count": null,
      "outputs": [
        {
          "output_type": "stream",
          "name": "stdout",
          "text": [
            "Epoch 1/3\n",
            "391/391 [==============================] - 84s 215ms/step - loss: 0.9956 - accuracy: 0.6738 - val_loss: 83.6888 - val_accuracy: 0.1609\n",
            "Epoch 2/3\n",
            "391/391 [==============================] - 79s 203ms/step - loss: 0.9411 - accuracy: 0.6888 - val_loss: 70.4268 - val_accuracy: 0.1001\n",
            "Epoch 3/3\n",
            "391/391 [==============================] - 79s 202ms/step - loss: 0.9023 - accuracy: 0.6985 - val_loss: 95.1296 - val_accuracy: 0.1000\n"
          ]
        }
      ]
    },
    {
      "cell_type": "markdown",
      "source": [
        "### Задание 5. Пойстройте график обучения для каждой модели. Сделайте выводы по каждому из них. Подведите итог и выделите наиболее удачную модель"
      ],
      "metadata": {
        "id": "Y7QF9bQh72eV"
      }
    },
    {
      "cell_type": "code",
      "source": [
        "import matplotlib.pyplot as plt\n",
        "plt.plot(history_1.history['accuracy'])\n",
        "plt.plot(history_2.history['accuracy'])\n",
        "plt.plot(history_3.history['accuracy'])\n",
        "plt.plot(history_4.history['accuracy'])\n",
        "plt.plot(history_1.history['val_accuracy'])\n",
        "plt.plot(history_2.history['val_accuracy'])\n",
        "plt.plot(history_3.history['val_accuracy'])\n",
        "plt.plot(history_4.history['val_accuracy'])\n",
        "plt.title('Model Accuracy')\n",
        "plt.ylabel('Accuracy')\n",
        "plt.xlabel('Epoch')\n",
        "plt.legend(['Model 1 Training',\n",
        "            'Model with Batch Normalization Training', \n",
        "            'Model with Dropout Training',\n",
        "            'Model with Batch Normalization and Dropout Training',\n",
        "            'Model 1 Testing',\n",
        "            'Model with Batch Normalization Testing',\n",
        "            'Model with Dropout Testing',\n",
        "            'Model with Batch Normalization and Dropout Testing'],\n",
        "             loc='center left', bbox_to_anchor=(1, 0.5))"
      ],
      "metadata": {
        "id": "HvqpPVoV72te",
        "colab": {
          "base_uri": "https://localhost:8080/",
          "height": 489
        },
        "outputId": "d97e2cc0-eb8e-4e73-d2e3-58308e80711d"
      },
      "execution_count": 148,
      "outputs": [
        {
          "output_type": "execute_result",
          "data": {
            "text/plain": [
              "<matplotlib.legend.Legend at 0x7fc3a9516950>"
            ]
          },
          "metadata": {},
          "execution_count": 148
        },
        {
          "output_type": "display_data",
          "data": {
            "text/plain": [
              "<Figure size 640x480 with 1 Axes>"
            ],
            "image/png": "[encoded data removed]"
          },
          "metadata": {}
        }
      ]
    },
    {
      "cell_type": "markdown",
      "source": [
        "4 нейронная сеть с BatchNormalization() и Dropout() хорошо обучается чем остальные, точность составляет 70 %. \n",
        "\n",
        "3 нейронная сеть с Dropout(). Точность  70%. \n",
        "\n",
        "2 нейронная сеть с BatchNormalization(). Точность 55%\n",
        "\n",
        "1 нейронная сеть без BatchNormalization() и Dropout(). Точность  65%"
      ],
      "metadata": {
        "id": "Ogg1lwqm9jKe"
      }
    },
    {
      "cell_type": "markdown",
      "source": [
        "Использование BatchNormalization() и Dropout() хороший вариант при проектировании архитектуры нейронной сети.  \n",
        "\n",
        "Точность обучения возрастает при использовании BatchNormalization() и Dropout() методов."
      ],
      "metadata": {
        "id": "N9mdlVQc9jUb"
      }
    }
  ]
}